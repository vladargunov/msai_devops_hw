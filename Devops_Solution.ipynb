{
  "cells": [
    {
      "cell_type": "markdown",
      "metadata": {
        "id": "view-in-github",
        "colab_type": "text"
      },
      "source": [
        "<a href=\"https://colab.research.google.com/github/vladargunov/msai_devops_hw/blob/master/Devops_Solution.ipynb\" target=\"_parent\"><img src=\"https://colab.research.google.com/assets/colab-badge.svg\" alt=\"Open In Colab\"/></a>"
      ]
    },
    {
      "cell_type": "markdown",
      "source": [
        "# Import libraries"
      ],
      "metadata": {
        "id": "Wlsb-oPeTZzQ"
      },
      "id": "Wlsb-oPeTZzQ"
    },
    {
      "cell_type": "code",
      "execution_count": null,
      "id": "5b2385a3-c0c9-44fb-89db-5b58f34b00e9",
      "metadata": {
        "colab": {
          "base_uri": "https://localhost:8080/"
        },
        "id": "5b2385a3-c0c9-44fb-89db-5b58f34b00e9",
        "outputId": "b60ab4ec-b9be-4763-9bd9-a0f7fb1dfbd1"
      },
      "outputs": [
        {
          "output_type": "stream",
          "name": "stdout",
          "text": [
            "  Preparing metadata (setup.py) ... \u001b[?25l\u001b[?25hdone\n",
            "  Building wheel for bs4 (setup.py) ... \u001b[?25l\u001b[?25hdone\n"
          ]
        }
      ],
      "source": [
        "!pip install bs4 -qqq\n",
        "import requests\n",
        "import bs4\n",
        "import pandas as pd\n",
        "from IPython.display import Image, display\n",
        "from tqdm import tqdm"
      ]
    },
    {
      "cell_type": "markdown",
      "source": [
        "# Construct CountryScraper\n",
        "\n",
        "Country Scraper is intended to collect data from Wikiperdia website about the country's name, capital, area, and population.\n",
        "\n",
        "Each method of such class is self explanatory and is later used to construct final datatable. See example after the instantiation of the class."
      ],
      "metadata": {
        "id": "YXnafmT0-Wm8"
      },
      "id": "YXnafmT0-Wm8"
    },
    {
      "cell_type": "code",
      "source": [
        "class CountryScraper:\n",
        "    def __init__(self):\n",
        "        # Get list of all countries\n",
        "        self.all_countries_list = self.get_all_available_countries()\n",
        "\n",
        "    def get_all_available_countries(self):\n",
        "        all_countries_link = (\n",
        "            \"https://en.wikipedia.org/wiki/List_of_countries_and_dependencies_by_area\"\n",
        "        )\n",
        "        html_page = bs4.BeautifulSoup(\n",
        "            requests.get(all_countries_link).content, \"html.parser\"\n",
        "        )\n",
        "        all_links = list(html_page.find_all(\"a\"))\n",
        "\n",
        "        all_countries_list = []\n",
        "        # Introduce two flags about Russia and Vatican, as first and last countries\n",
        "        russia_appeared = False\n",
        "        vatican_appeared = False\n",
        "        for link in all_links:\n",
        "            try:\n",
        "                if \"/wiki/\" in link.get(\"href\"):\n",
        "                    # Append only between Russia and Vatican\n",
        "                    country_name = link.get(\"title\")\n",
        "                    if country_name == \"Russia\":\n",
        "                        russia_appeared = True\n",
        "                    elif country_name == \"Vatican City\":\n",
        "                        vatican_appeared = True\n",
        "                    # Add country to the list\n",
        "                    if russia_appeared:\n",
        "                        all_countries_list.append(country_name)\n",
        "                    if vatican_appeared:\n",
        "                        break\n",
        "\n",
        "            except TypeError:\n",
        "                print(f\"Error occured here: {link}\")\n",
        "\n",
        "        return all_countries_list\n",
        "\n",
        "    def get_flag_link_of_country(self, country: str):\n",
        "        base_link = \"https://upload.wikimedia.org/wikipedia/\"\n",
        "        search_link = f\"https://en.wikipedia.org/wiki/Flag_of_{country}#/media/File:Flag_of_{country}.svg\"\n",
        "\n",
        "        response = bs4.BeautifulSoup(requests.get(search_link).content, \"html.parser\")\n",
        "        list_response = str(response.contents).split(\"\\n\")\n",
        "\n",
        "        for row in list_response:\n",
        "            if base_link in row:\n",
        "                # Find indices of start and end links in row\n",
        "                start_id = row.find(base_link)\n",
        "                end_id = row.find(f\".svg.png\")\n",
        "\n",
        "                img_link = row[start_id : (end_id + len(\".svg.png\"))]\n",
        "\n",
        "                return img_link\n",
        "\n",
        "        raise FileNotFoundError(f\"Image of country {country} was not found!\")\n",
        "\n",
        "    def display_flag_clountry(self, country):\n",
        "        flag_link = self.get_flag_link_of_country(country)\n",
        "        display(Image(flag_link))\n",
        "\n",
        "    def get_capital_country(self, country):\n",
        "        country_url = f\"https://en.wikipedia.org/wiki/{country}\"\n",
        "\n",
        "        response = bs4.BeautifulSoup(requests.get(country_url).content, \"html.parser\")\n",
        "\n",
        "        response = str(response.contents).split(\"\\n\")\n",
        "\n",
        "        for row in response:\n",
        "            if \"Capital\" in row:\n",
        "                capital_string = row[row.find(\"Capital\") :]\n",
        "                capital_string = capital_string[\n",
        "                    (capital_string.find(\"title\") + len(\"title\") + 2) :\n",
        "                ]\n",
        "                capital_string = capital_string[: capital_string.find(\">\") - 1]\n",
        "                return capital_string\n",
        "\n",
        "        raise FileNotFoundError(f\"Capital of country {country} was not found!\")\n",
        "\n",
        "    def get_population_country(self, country: str):\n",
        "        country_url = f\"https://en.wikipedia.org/wiki/List_of_countries_and_dependencies_by_population\"\n",
        "\n",
        "        response = bs4.BeautifulSoup(requests.get(country_url).content, \"html.parser\")\n",
        "\n",
        "        response_text = response.text.split(\"\\n\")\n",
        "\n",
        "        # Get population value\n",
        "        for row_id, row in enumerate(response_text):\n",
        "            if country in row:\n",
        "                population = response_text[row_id + 2]\n",
        "                break\n",
        "\n",
        "        population = population.strip().replace(\",\", \"\")\n",
        "\n",
        "        population_return = \"\"\n",
        "        # Try each subsequent value for case of integer\n",
        "        for num in population:\n",
        "            try:\n",
        "                population_int = int(num)\n",
        "                population_return += num\n",
        "            except ValueError:\n",
        "                break\n",
        "        return population_return\n",
        "\n",
        "    def get_area_country(self, country: str):\n",
        "        country_url = (\n",
        "            f\"https://en.wikipedia.org/wiki/List_of_countries_and_dependencies_by_area\"\n",
        "        )\n",
        "\n",
        "        response = bs4.BeautifulSoup(requests.get(country_url).content, \"html.parser\")\n",
        "\n",
        "        response_text = response.text.split(\"\\n\")\n",
        "\n",
        "        # Get population value\n",
        "        for row_id, row in enumerate(response_text):\n",
        "            if country in row:\n",
        "                area = response_text[row_id + 1]\n",
        "                break\n",
        "\n",
        "        area = area.strip().replace(\",\", \"\")\n",
        "\n",
        "        area_return = \"\"\n",
        "        # Try each subsequent value for case of integer\n",
        "        for num in area:\n",
        "            try:\n",
        "                area_int = int(num)\n",
        "                area_return += num\n",
        "            except ValueError:\n",
        "                break\n",
        "        return area_return\n",
        "\n",
        "    def get_info_about_country(self, country):\n",
        "        flag_url = self.get_flag_link_of_country(country)\n",
        "        capital = self.get_capital_country(country)\n",
        "        area = self.get_area_country(country)\n",
        "        population = self.get_population_country(country)\n",
        "\n",
        "        return {\n",
        "            \"Country\": country,\n",
        "            \"Flag Image URL\": flag_url,\n",
        "            \"Capital\": capital,\n",
        "            \"Area (km^2)\": area,\n",
        "            \"Population\": population,\n",
        "        }\n",
        "\n",
        "    def construct_table(self, selected_countries=None):\n",
        "        data_rows = []\n",
        "        iterator_countries = (\n",
        "            self.all_countries_list\n",
        "            if selected_countries is None\n",
        "            else selected_countries\n",
        "        )\n",
        "        for country in tqdm(iterator_countries):\n",
        "            try:\n",
        "                data_row = self.get_info_about_country(country)\n",
        "                data_rows.append(data_row)\n",
        "            except Exception as e:\n",
        "                print(f\"Error in retrieving data from country {country}\")\n",
        "\n",
        "        return pd.DataFrame(data_rows)\n"
      ],
      "metadata": {
        "id": "XbJ7sle8UQzQ"
      },
      "id": "XbJ7sle8UQzQ",
      "execution_count": 371,
      "outputs": []
    },
    {
      "cell_type": "markdown",
      "source": [
        "## Example\n",
        "\n",
        "Here I construct a simple table of data from all the countries liste in wikipedia. Note, however, that some of the countries were not able to be parsed since they do not contain part of the required data. However, 280 countries were successfully parsed."
      ],
      "metadata": {
        "id": "-nihs6yH_aac"
      },
      "id": "-nihs6yH_aac"
    },
    {
      "cell_type": "code",
      "source": [
        "cs = CountryScraper()"
      ],
      "metadata": {
        "id": "NHUkoZb1Yb9h"
      },
      "id": "NHUkoZb1Yb9h",
      "execution_count": 372,
      "outputs": []
    },
    {
      "cell_type": "code",
      "source": [
        "data = cs.construct_table()"
      ],
      "metadata": {
        "colab": {
          "base_uri": "https://localhost:8080/"
        },
        "id": "Xjqinul148Kf",
        "outputId": "7c2c323c-5125-4e2f-ff49-afb8b140f26d"
      },
      "id": "Xjqinul148Kf",
      "execution_count": 373,
      "outputs": [
        {
          "output_type": "stream",
          "name": "stderr",
          "text": [
            "  1%|          | 2/318 [00:03<07:07,  1.35s/it]"
          ]
        },
        {
          "output_type": "stream",
          "name": "stdout",
          "text": [
            "Error in retrieving data from country Antarctica\n"
          ]
        },
        {
          "output_type": "stream",
          "name": "stderr",
          "text": [
            "  4%|▍         | 12/318 [00:32<13:17,  2.61s/it]"
          ]
        },
        {
          "output_type": "stream",
          "name": "stdout",
          "text": [
            "Error in retrieving data from country Democratic Republic of the Congo\n"
          ]
        },
        {
          "output_type": "stream",
          "name": "stderr",
          "text": [
            "\r  4%|▍         | 13/318 [00:32<09:47,  1.93s/it]"
          ]
        },
        {
          "output_type": "stream",
          "name": "stdout",
          "text": [
            "Error in retrieving data from country no\n"
          ]
        },
        {
          "output_type": "stream",
          "name": "stderr",
          "text": [
            "\r  4%|▍         | 14/318 [00:33<07:30,  1.48s/it]"
          ]
        },
        {
          "output_type": "stream",
          "name": "stdout",
          "text": [
            "Error in retrieving data from country Danish Realm\n"
          ]
        },
        {
          "output_type": "stream",
          "name": "stderr",
          "text": [
            "  5%|▌         | 16/318 [00:35<06:24,  1.27s/it]"
          ]
        },
        {
          "output_type": "stream",
          "name": "stdout",
          "text": [
            "Error in retrieving data from country Danish Realm\n"
          ]
        },
        {
          "output_type": "stream",
          "name": "stderr",
          "text": [
            " 22%|██▏       | 70/318 [02:57<10:33,  2.56s/it]"
          ]
        },
        {
          "output_type": "stream",
          "name": "stdout",
          "text": [
            "Error in retrieving data from country Republic of the Congo\n"
          ]
        },
        {
          "output_type": "stream",
          "name": "stderr",
          "text": [
            " 26%|██▋       | 84/318 [03:37<08:57,  2.30s/it]"
          ]
        },
        {
          "output_type": "stream",
          "name": "stdout",
          "text": [
            "Error in retrieving data from country Western Sahara\n"
          ]
        },
        {
          "output_type": "stream",
          "name": "stderr",
          "text": [
            " 30%|██▉       | 95/318 [04:02<06:24,  1.73s/it]"
          ]
        },
        {
          "output_type": "stream",
          "name": "stdout",
          "text": [
            "Error in retrieving data from country Syria\n"
          ]
        },
        {
          "output_type": "stream",
          "name": "stderr",
          "text": [
            " 40%|███▉      | 127/318 [05:25<08:27,  2.66s/it]"
          ]
        },
        {
          "output_type": "stream",
          "name": "stdout",
          "text": [
            "Error in retrieving data from country Republic of Ireland\n"
          ]
        },
        {
          "output_type": "stream",
          "name": "stderr",
          "text": [
            "\r 40%|████      | 128/318 [05:27<08:14,  2.60s/it]"
          ]
        },
        {
          "output_type": "stream",
          "name": "stdout",
          "text": [
            "Error in retrieving data from country Georgia (country)\n"
          ]
        },
        {
          "output_type": "stream",
          "name": "stderr",
          "text": [
            " 42%|████▏     | 132/318 [05:37<07:02,  2.27s/it]"
          ]
        },
        {
          "output_type": "stream",
          "name": "stdout",
          "text": [
            "Error in retrieving data from country Svalbard\n"
          ]
        },
        {
          "output_type": "stream",
          "name": "stderr",
          "text": [
            " 53%|█████▎    | 169/318 [07:13<06:05,  2.46s/it]"
          ]
        },
        {
          "output_type": "stream",
          "name": "stdout",
          "text": [
            "Error in retrieving data from country The Bahamas\n"
          ]
        },
        {
          "output_type": "stream",
          "name": "stderr",
          "text": [
            " 55%|█████▌    | 175/318 [07:28<05:49,  2.45s/it]"
          ]
        },
        {
          "output_type": "stream",
          "name": "stdout",
          "text": [
            "Error in retrieving data from country The Gambia\n"
          ]
        },
        {
          "output_type": "stream",
          "name": "stderr",
          "text": [
            " 57%|█████▋    | 182/318 [07:46<04:42,  2.08s/it]"
          ]
        },
        {
          "output_type": "stream",
          "name": "stdout",
          "text": [
            "Error in retrieving data from country Abkhazia\n"
          ]
        },
        {
          "output_type": "stream",
          "name": "stderr",
          "text": [
            " 58%|█████▊    | 185/318 [07:53<04:35,  2.07s/it]"
          ]
        },
        {
          "output_type": "stream",
          "name": "stdout",
          "text": [
            "Error in retrieving data from country State of Palestine\n"
          ]
        },
        {
          "output_type": "stream",
          "name": "stderr",
          "text": [
            " 60%|█████▉    | 190/318 [08:04<04:08,  1.94s/it]"
          ]
        },
        {
          "output_type": "stream",
          "name": "stdout",
          "text": [
            "Error in retrieving data from country Transnistria\n"
          ]
        },
        {
          "output_type": "stream",
          "name": "stderr",
          "text": [
            " 62%|██████▏   | 196/318 [08:18<03:57,  1.95s/it]"
          ]
        },
        {
          "output_type": "stream",
          "name": "stdout",
          "text": [
            "Error in retrieving data from country Republic of Artsakh\n"
          ]
        },
        {
          "output_type": "stream",
          "name": "stderr",
          "text": [
            " 63%|██████▎   | 201/318 [08:29<03:50,  1.97s/it]"
          ]
        },
        {
          "output_type": "stream",
          "name": "stdout",
          "text": [
            "Error in retrieving data from country Bir Tawil\n"
          ]
        },
        {
          "output_type": "stream",
          "name": "stderr",
          "text": [
            "\r 64%|██████▎   | 202/318 [08:30<02:58,  1.54s/it]"
          ]
        },
        {
          "output_type": "stream",
          "name": "stdout",
          "text": [
            "Error in retrieving data from country Terra nullius\n"
          ]
        },
        {
          "output_type": "stream",
          "name": "stderr",
          "text": [
            " 65%|██████▌   | 208/318 [08:42<02:58,  1.62s/it]"
          ]
        },
        {
          "output_type": "stream",
          "name": "stdout",
          "text": [
            "Error in retrieving data from country Danish Realm\n"
          ]
        },
        {
          "output_type": "stream",
          "name": "stderr",
          "text": [
            " 68%|██████▊   | 217/318 [09:04<04:00,  2.38s/it]"
          ]
        },
        {
          "output_type": "stream",
          "name": "stdout",
          "text": [
            "Error in retrieving data from country Federated States of Micronesia\n"
          ]
        },
        {
          "output_type": "stream",
          "name": "stderr",
          "text": [
            " 73%|███████▎  | 232/318 [09:39<02:25,  1.69s/it]"
          ]
        },
        {
          "output_type": "stream",
          "name": "stdout",
          "text": [
            "Error in retrieving data from country Heard Island and McDonald Islands\n"
          ]
        },
        {
          "output_type": "stream",
          "name": "stderr",
          "text": [
            " 74%|███████▍  | 235/318 [09:46<02:29,  1.80s/it]"
          ]
        },
        {
          "output_type": "stream",
          "name": "stdout",
          "text": [
            "Error in retrieving data from country Jan Mayen\n"
          ]
        },
        {
          "output_type": "stream",
          "name": "stderr",
          "text": [
            " 75%|███████▍  | 237/318 [09:50<02:36,  1.94s/it]"
          ]
        },
        {
          "output_type": "stream",
          "name": "stdout",
          "text": [
            "Error in retrieving data from country United States Virgin Islands\n"
          ]
        },
        {
          "output_type": "stream",
          "name": "stderr",
          "text": [
            " 82%|████████▏ | 260/318 [10:49<02:07,  2.19s/it]"
          ]
        },
        {
          "output_type": "stream",
          "name": "stdout",
          "text": [
            "Error in retrieving data from country Easter Island\n"
          ]
        },
        {
          "output_type": "stream",
          "name": "stderr",
          "text": [
            " 86%|████████▋ | 275/318 [11:26<01:26,  2.02s/it]"
          ]
        },
        {
          "output_type": "stream",
          "name": "stdout",
          "text": [
            "Error in retrieving data from country Bailiwick of Guernsey\n"
          ]
        },
        {
          "output_type": "stream",
          "name": "stderr",
          "text": [
            " 88%|████████▊ | 280/318 [11:38<01:21,  2.15s/it]"
          ]
        },
        {
          "output_type": "stream",
          "name": "stdout",
          "text": [
            "Error in retrieving data from country Collectivity of Saint Martin\n"
          ]
        },
        {
          "output_type": "stream",
          "name": "stderr",
          "text": [
            " 89%|████████▉ | 284/318 [11:48<01:17,  2.29s/it]"
          ]
        },
        {
          "output_type": "stream",
          "name": "stdout",
          "text": [
            "Error in retrieving data from country Bouvet Island\n"
          ]
        },
        {
          "output_type": "stream",
          "name": "stderr",
          "text": [
            " 94%|█████████▍| 300/318 [12:28<00:34,  1.94s/it]"
          ]
        },
        {
          "output_type": "stream",
          "name": "stdout",
          "text": [
            "Error in retrieving data from country United States Minor Outlying Islands\n"
          ]
        },
        {
          "output_type": "stream",
          "name": "stderr",
          "text": [
            " 95%|█████████▌| 303/318 [12:34<00:28,  1.93s/it]"
          ]
        },
        {
          "output_type": "stream",
          "name": "stdout",
          "text": [
            "Error in retrieving data from country Saba (island)\n"
          ]
        },
        {
          "output_type": "stream",
          "name": "stderr",
          "text": [
            " 96%|█████████▌| 306/318 [12:40<00:20,  1.71s/it]"
          ]
        },
        {
          "output_type": "stream",
          "name": "stdout",
          "text": [
            "Error in retrieving data from country Realm of New Zealand\n"
          ]
        },
        {
          "output_type": "stream",
          "name": "stderr",
          "text": [
            " 97%|█████████▋| 309/318 [12:45<00:14,  1.66s/it]"
          ]
        },
        {
          "output_type": "stream",
          "name": "stdout",
          "text": [
            "Error in retrieving data from country Clipperton Island\n"
          ]
        },
        {
          "output_type": "stream",
          "name": "stderr",
          "text": [
            " 98%|█████████▊| 311/318 [12:50<00:12,  1.85s/it]"
          ]
        },
        {
          "output_type": "stream",
          "name": "stdout",
          "text": [
            "Error in retrieving data from country Ashmore and Cartier Islands\n"
          ]
        },
        {
          "output_type": "stream",
          "name": "stderr",
          "text": [
            " 98%|█████████▊| 313/318 [12:53<00:07,  1.57s/it]"
          ]
        },
        {
          "output_type": "stream",
          "name": "stdout",
          "text": [
            "Error in retrieving data from country Spratly Islands\n"
          ]
        },
        {
          "output_type": "stream",
          "name": "stderr",
          "text": [
            "\r 99%|█████████▊| 314/318 [12:53<00:05,  1.25s/it]"
          ]
        },
        {
          "output_type": "stream",
          "name": "stdout",
          "text": [
            "Error in retrieving data from country Spratly Islands dispute\n"
          ]
        },
        {
          "output_type": "stream",
          "name": "stderr",
          "text": [
            "\r 99%|█████████▉| 315/318 [12:54<00:03,  1.03s/it]"
          ]
        },
        {
          "output_type": "stream",
          "name": "stdout",
          "text": [
            "Error in retrieving data from country Coral Sea Islands\n"
          ]
        },
        {
          "output_type": "stream",
          "name": "stderr",
          "text": [
            "100%|██████████| 318/318 [13:02<00:00,  2.46s/it]\n"
          ]
        }
      ]
    },
    {
      "cell_type": "code",
      "source": [
        "# Patch of data to remove last two countries since they gave strange results\n",
        "data = data.iloc[:-2]"
      ],
      "metadata": {
        "id": "TNQJ7C4z496C"
      },
      "id": "TNQJ7C4z496C",
      "execution_count": 380,
      "outputs": []
    },
    {
      "cell_type": "markdown",
      "source": [
        "The same dataframe is represented in Github repo as a csv file"
      ],
      "metadata": {
        "id": "RRwqpvBu_10k"
      },
      "id": "RRwqpvBu_10k"
    },
    {
      "cell_type": "code",
      "source": [
        "data.head()"
      ],
      "metadata": {
        "colab": {
          "base_uri": "https://localhost:8080/",
          "height": 221
        },
        "id": "Ho5_uMaQn19W",
        "outputId": "eef55050-3887-4b3f-e16e-cfa162cfcce7"
      },
      "id": "Ho5_uMaQn19W",
      "execution_count": 385,
      "outputs": [
        {
          "output_type": "execute_result",
          "data": {
            "text/plain": [
              "         Country                                     Flag Image URL  \\\n",
              "0         Russia  https://upload.wikimedia.org/wikipedia/en/thum...   \n",
              "1         Canada  https://upload.wikimedia.org/wikipedia/commons...   \n",
              "2          China  https://upload.wikimedia.org/wikipedia/commons...   \n",
              "3  United States  https://upload.wikimedia.org/wikipedia/en/thum...   \n",
              "4         Brazil  https://upload.wikimedia.org/wikipedia/en/thum...   \n",
              "\n",
              "            Capital Area (km^2)  Population  \n",
              "0            Moscow    17098246   146424729  \n",
              "1            Ottawa     9984670    40130200  \n",
              "2           Beijing     9596961  1411750000  \n",
              "3  Washington, D.C.     9833517   335038000  \n",
              "4          Brasília     8515767   203062512  "
            ],
            "text/html": [
              "\n",
              "  <div id=\"df-f4afd162-8916-4d14-8b75-d8b2c3ce71bd\">\n",
              "    <div class=\"colab-df-container\">\n",
              "      <div>\n",
              "<style scoped>\n",
              "    .dataframe tbody tr th:only-of-type {\n",
              "        vertical-align: middle;\n",
              "    }\n",
              "\n",
              "    .dataframe tbody tr th {\n",
              "        vertical-align: top;\n",
              "    }\n",
              "\n",
              "    .dataframe thead th {\n",
              "        text-align: right;\n",
              "    }\n",
              "</style>\n",
              "<table border=\"1\" class=\"dataframe\">\n",
              "  <thead>\n",
              "    <tr style=\"text-align: right;\">\n",
              "      <th></th>\n",
              "      <th>Country</th>\n",
              "      <th>Flag Image URL</th>\n",
              "      <th>Capital</th>\n",
              "      <th>Area (km^2)</th>\n",
              "      <th>Population</th>\n",
              "    </tr>\n",
              "  </thead>\n",
              "  <tbody>\n",
              "    <tr>\n",
              "      <th>0</th>\n",
              "      <td>Russia</td>\n",
              "      <td>https://upload.wikimedia.org/wikipedia/en/thum...</td>\n",
              "      <td>Moscow</td>\n",
              "      <td>17098246</td>\n",
              "      <td>146424729</td>\n",
              "    </tr>\n",
              "    <tr>\n",
              "      <th>1</th>\n",
              "      <td>Canada</td>\n",
              "      <td>https://upload.wikimedia.org/wikipedia/commons...</td>\n",
              "      <td>Ottawa</td>\n",
              "      <td>9984670</td>\n",
              "      <td>40130200</td>\n",
              "    </tr>\n",
              "    <tr>\n",
              "      <th>2</th>\n",
              "      <td>China</td>\n",
              "      <td>https://upload.wikimedia.org/wikipedia/commons...</td>\n",
              "      <td>Beijing</td>\n",
              "      <td>9596961</td>\n",
              "      <td>1411750000</td>\n",
              "    </tr>\n",
              "    <tr>\n",
              "      <th>3</th>\n",
              "      <td>United States</td>\n",
              "      <td>https://upload.wikimedia.org/wikipedia/en/thum...</td>\n",
              "      <td>Washington, D.C.</td>\n",
              "      <td>9833517</td>\n",
              "      <td>335038000</td>\n",
              "    </tr>\n",
              "    <tr>\n",
              "      <th>4</th>\n",
              "      <td>Brazil</td>\n",
              "      <td>https://upload.wikimedia.org/wikipedia/en/thum...</td>\n",
              "      <td>Brasília</td>\n",
              "      <td>8515767</td>\n",
              "      <td>203062512</td>\n",
              "    </tr>\n",
              "  </tbody>\n",
              "</table>\n",
              "</div>\n",
              "      <button class=\"colab-df-convert\" onclick=\"convertToInteractive('df-f4afd162-8916-4d14-8b75-d8b2c3ce71bd')\"\n",
              "              title=\"Convert this dataframe to an interactive table.\"\n",
              "              style=\"display:none;\">\n",
              "        \n",
              "  <svg xmlns=\"http://www.w3.org/2000/svg\" height=\"24px\"viewBox=\"0 0 24 24\"\n",
              "       width=\"24px\">\n",
              "    <path d=\"M0 0h24v24H0V0z\" fill=\"none\"/>\n",
              "    <path d=\"M18.56 5.44l.94 2.06.94-2.06 2.06-.94-2.06-.94-.94-2.06-.94 2.06-2.06.94zm-11 1L8.5 8.5l.94-2.06 2.06-.94-2.06-.94L8.5 2.5l-.94 2.06-2.06.94zm10 10l.94 2.06.94-2.06 2.06-.94-2.06-.94-.94-2.06-.94 2.06-2.06.94z\"/><path d=\"M17.41 7.96l-1.37-1.37c-.4-.4-.92-.59-1.43-.59-.52 0-1.04.2-1.43.59L10.3 9.45l-7.72 7.72c-.78.78-.78 2.05 0 2.83L4 21.41c.39.39.9.59 1.41.59.51 0 1.02-.2 1.41-.59l7.78-7.78 2.81-2.81c.8-.78.8-2.07 0-2.86zM5.41 20L4 18.59l7.72-7.72 1.47 1.35L5.41 20z\"/>\n",
              "  </svg>\n",
              "      </button>\n",
              "      \n",
              "  <style>\n",
              "    .colab-df-container {\n",
              "      display:flex;\n",
              "      flex-wrap:wrap;\n",
              "      gap: 12px;\n",
              "    }\n",
              "\n",
              "    .colab-df-convert {\n",
              "      background-color: #E8F0FE;\n",
              "      border: none;\n",
              "      border-radius: 50%;\n",
              "      cursor: pointer;\n",
              "      display: none;\n",
              "      fill: #1967D2;\n",
              "      height: 32px;\n",
              "      padding: 0 0 0 0;\n",
              "      width: 32px;\n",
              "    }\n",
              "\n",
              "    .colab-df-convert:hover {\n",
              "      background-color: #E2EBFA;\n",
              "      box-shadow: 0px 1px 2px rgba(60, 64, 67, 0.3), 0px 1px 3px 1px rgba(60, 64, 67, 0.15);\n",
              "      fill: #174EA6;\n",
              "    }\n",
              "\n",
              "    [theme=dark] .colab-df-convert {\n",
              "      background-color: #3B4455;\n",
              "      fill: #D2E3FC;\n",
              "    }\n",
              "\n",
              "    [theme=dark] .colab-df-convert:hover {\n",
              "      background-color: #434B5C;\n",
              "      box-shadow: 0px 1px 3px 1px rgba(0, 0, 0, 0.15);\n",
              "      filter: drop-shadow(0px 1px 2px rgba(0, 0, 0, 0.3));\n",
              "      fill: #FFFFFF;\n",
              "    }\n",
              "  </style>\n",
              "\n",
              "      <script>\n",
              "        const buttonEl =\n",
              "          document.querySelector('#df-f4afd162-8916-4d14-8b75-d8b2c3ce71bd button.colab-df-convert');\n",
              "        buttonEl.style.display =\n",
              "          google.colab.kernel.accessAllowed ? 'block' : 'none';\n",
              "\n",
              "        async function convertToInteractive(key) {\n",
              "          const element = document.querySelector('#df-f4afd162-8916-4d14-8b75-d8b2c3ce71bd');\n",
              "          const dataTable =\n",
              "            await google.colab.kernel.invokeFunction('convertToInteractive',\n",
              "                                                     [key], {});\n",
              "          if (!dataTable) return;\n",
              "\n",
              "          const docLinkHtml = 'Like what you see? Visit the ' +\n",
              "            '<a target=\"_blank\" href=https://colab.research.google.com/notebooks/data_table.ipynb>data table notebook</a>'\n",
              "            + ' to learn more about interactive tables.';\n",
              "          element.innerHTML = '';\n",
              "          dataTable['output_type'] = 'display_data';\n",
              "          await google.colab.output.renderOutput(dataTable, element);\n",
              "          const docLink = document.createElement('div');\n",
              "          docLink.innerHTML = docLinkHtml;\n",
              "          element.appendChild(docLink);\n",
              "        }\n",
              "      </script>\n",
              "    </div>\n",
              "  </div>\n",
              "  "
            ]
          },
          "metadata": {},
          "execution_count": 385
        }
      ]
    },
    {
      "cell_type": "markdown",
      "source": [
        "You can also display an image of any requested flag of the country."
      ],
      "metadata": {
        "id": "uiM_k18Z_6cK"
      },
      "id": "uiM_k18Z_6cK"
    },
    {
      "cell_type": "code",
      "source": [
        "cs.display_flag_clountry('Russia')"
      ],
      "metadata": {
        "colab": {
          "base_uri": "https://localhost:8080/",
          "height": 792
        },
        "id": "sFENMqR--QCU",
        "outputId": "29d77a59-c216-4fa1-d8b3-d583cd3ea822"
      },
      "id": "sFENMqR--QCU",
      "execution_count": 389,
      "outputs": [
        {
          "output_type": "display_data",
          "data": {
            "image/png": "[encoded data removed]",
            "text/plain": [
              "<IPython.core.display.Image object>"
            ]
          },
          "metadata": {}
        }
      ]
    },
    {
      "cell_type": "code",
      "source": [],
      "metadata": {
        "id": "KZ5oyZvc-Rxr"
      },
      "id": "KZ5oyZvc-Rxr",
      "execution_count": null,
      "outputs": []
    }
  ],
  "metadata": {
    "kernelspec": {
      "display_name": "Python 3 (ipykernel)",
      "language": "python",
      "name": "python3"
    },
    "language_info": {
      "codemirror_mode": {
        "name": "ipython",
        "version": 3
      },
      "file_extension": ".py",
      "mimetype": "text/x-python",
      "name": "python",
      "nbconvert_exporter": "python",
      "pygments_lexer": "ipython3",
      "version": "3.11.4"
    },
    "colab": {
      "provenance": [],
      "include_colab_link": true
    }
  },
  "nbformat": 4,
  "nbformat_minor": 5
}